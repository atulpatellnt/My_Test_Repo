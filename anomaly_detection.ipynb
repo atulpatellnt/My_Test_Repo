{
  "cells": [
    {
      "cell_type": "markdown",
      "metadata": {
        "id": "view-in-github",
        "colab_type": "text"
      },
      "source": [
        "<a href=\"https://colab.research.google.com/github/atulpatellnt/My_Test_Repo/blob/main/anomaly_detection.ipynb\" target=\"_parent\"><img src=\"https://colab.research.google.com/assets/colab-badge.svg\" alt=\"Open In Colab\"/></a>"
      ]
    },
    {
      "cell_type": "markdown",
      "source": [
        "# Step 1: Preparing the Data\n",
        "- We are taking sample dataset containing 10 rows of logs. Some of these will be failure logs, and some will be normal logs."
      ],
      "metadata": {
        "id": "OEPp6vChi2Gl"
      }
    },
    {
      "cell_type": "code",
      "source": [
        "# Importing necessary libraries\n",
        "from sklearn.feature_extraction.text import TfidfVectorizer\n",
        "from sklearn.model_selection import train_test_split, cross_val_score\n",
        "from sklearn.naive_bayes import MultinomialNB\n",
        "from sklearn.metrics import classification_report, accuracy_score"
      ],
      "metadata": {
        "id": "AaYot4gMlXXV"
      },
      "execution_count": 6,
      "outputs": []
    },
    {
      "source": [
        "# prompt: my dataset is very less of 20 rows for anomaly so give the code that will dynamicaaly create a 1000 rows dataset and store it in data frame\n",
        "\n",
        "import pandas as pd\n",
        "import numpy as np\n",
        "\n",
        "# Assuming your original DataFrame is called 'df' (as in your provided code)\n",
        "# Define the original data (this was likely defined in a previous cell)\n",
        "data = {\n",
        "    'log': [\n",
        "        'System rebooted after a failure in the printer spooler',\n",
        "        'Application X started successfully',\n",
        "        'Disk usage reached 95%, system under pressure',\n",
        "        'Network connection established successfully',\n",
        "        'Kernel panic: Oops, memory allocation failure',\n",
        "        'Failed to connect to database server',\n",
        "        'System running optimally with no issues detected',\n",
        "        'Error: Unable to access system configuration files',\n",
        "        'Service A restarted after a crash',\n",
        "        'System shutdown scheduled for maintenance',\n",
        "        'Database error: Connection refused',\n",
        "        'File system error: Unable to mount drive',\n",
        "        'Application Y failed to launch',\n",
        "        'Memory usage at critical levels',\n",
        "        'Disk space exhausted, unable to write log files',\n",
        "        'Service B crashed unexpectedly',\n",
        "        'Server response time exceeded 5 seconds',\n",
        "        'Network outage detected, no connectivity',\n",
        "        'System running low on memory resources',\n",
        "        'Critical error in system configuration detected'\n",
        "    ],\n",
        "    'label': [\n",
        "        'Failure', 'Normal', 'Failure', 'Normal', 'Failure', 'Failure', 'Normal', 'Failure', 'Failure', 'Normal',\n",
        "        'Failure', 'Failure', 'Failure', 'Failure', 'Failure', 'Failure', 'Failure', 'Failure', 'Failure', 'Failure'\n",
        "    ]\n",
        "}\n",
        "df1 = pd.DataFrame(data) # Create the DataFrame 'df'\n",
        "\n",
        "# Create a list to store the new data\n",
        "new_data = []\n",
        "\n",
        "# Define the number of rows you want to generate\n",
        "num_rows_to_generate = 1000\n",
        "\n",
        "# Generate new rows by randomly combining existing logs and labels\n",
        "for _ in range(num_rows_to_generate):\n",
        "    random_log_index = np.random.randint(0, len(df1['log']))\n",
        "    random_label_index = np.random.randint(0, len(df1['label']))\n",
        "    new_data.append({\n",
        "        'log': df1['log'][random_log_index],\n",
        "        'label': df1['label'][random_label_index]\n",
        "    })\n",
        "\n",
        "# Create a new DataFrame from the generated data\n",
        "new_df = pd.DataFrame(new_data)\n",
        "\n",
        "# Concatenate the original DataFrame with the new DataFrame\n",
        "df = pd.concat([df1, new_df], ignore_index=True)\n",
        "\n",
        "# Now 'expanded_df' contains your original dataset and the generated rows.\n",
        "\n",
        "# You can then use 'expanded_df' for your machine learning tasks."
      ],
      "cell_type": "code",
      "metadata": {
        "id": "WLOjw1-I9oKm"
      },
      "execution_count": 4,
      "outputs": []
    },
    {
      "cell_type": "code",
      "source": [
        "# Expanded dataset (more rows for better learning)\n",
        "data = {\n",
        "    'log': [\n",
        "        'System rebooted after a failure in the printer spooler',\n",
        "        'Application X started successfully',\n",
        "        'Disk usage reached 95%, system under pressure',\n",
        "        'Network connection established successfully',\n",
        "        'Kernel panic: Oops, memory allocation failure',\n",
        "        'Failed to connect to database server',\n",
        "        'System running optimally with no issues detected',\n",
        "        'Error: Unable to access system configuration files',\n",
        "        'Service A restarted after a crash',\n",
        "        'System shutdown scheduled for maintenance',\n",
        "        'Database error: Connection refused',\n",
        "        'File system error: Unable to mount drive',\n",
        "        'Application Y failed to launch',\n",
        "        'Memory usage at critical levels',\n",
        "        'Disk space exhausted, unable to write log files',\n",
        "        'Service B crashed unexpectedly',\n",
        "        'Server response time exceeded 5 seconds',\n",
        "        'Network outage detected, no connectivity',\n",
        "        'System running low on memory resources',\n",
        "        'Critical error in system configuration detected'\n",
        "    ],\n",
        "    'label': [\n",
        "        'Failure', 'Normal', 'Failure', 'Normal', 'Failure', 'Failure', 'Normal', 'Failure', 'Failure', 'Normal',\n",
        "        'Failure', 'Failure', 'Failure', 'Failure', 'Failure', 'Failure', 'Failure', 'Failure', 'Failure', 'Failure'\n",
        "    ]\n",
        "}\n",
        "\n",
        "# Create a DataFrame\n",
        "df = pd.DataFrame(data)\n",
        "\n",
        "# Display the dataset\n",
        "df.head(10)\n"
      ],
      "metadata": {
        "colab": {
          "base_uri": "https://localhost:8080/",
          "height": 363
        },
        "id": "4xNrCQpsgc9O",
        "outputId": "84a3cdb7-7dde-4f33-ec97-1581652164cc"
      },
      "execution_count": 10,
      "outputs": [
        {
          "output_type": "execute_result",
          "data": {
            "text/plain": [
              "                                                 log    label\n",
              "0  System rebooted after a failure in the printer...  Failure\n",
              "1                 Application X started successfully   Normal\n",
              "2      Disk usage reached 95%, system under pressure  Failure\n",
              "3        Network connection established successfully   Normal\n",
              "4      Kernel panic: Oops, memory allocation failure  Failure\n",
              "5               Failed to connect to database server  Failure\n",
              "6   System running optimally with no issues detected   Normal\n",
              "7  Error: Unable to access system configuration f...  Failure\n",
              "8                  Service A restarted after a crash  Failure\n",
              "9          System shutdown scheduled for maintenance   Normal"
            ],
            "text/html": [
              "\n",
              "  <div id=\"df-f7747cce-a512-45f5-8317-9bf1767d6bc1\" class=\"colab-df-container\">\n",
              "    <div>\n",
              "<style scoped>\n",
              "    .dataframe tbody tr th:only-of-type {\n",
              "        vertical-align: middle;\n",
              "    }\n",
              "\n",
              "    .dataframe tbody tr th {\n",
              "        vertical-align: top;\n",
              "    }\n",
              "\n",
              "    .dataframe thead th {\n",
              "        text-align: right;\n",
              "    }\n",
              "</style>\n",
              "<table border=\"1\" class=\"dataframe\">\n",
              "  <thead>\n",
              "    <tr style=\"text-align: right;\">\n",
              "      <th></th>\n",
              "      <th>log</th>\n",
              "      <th>label</th>\n",
              "    </tr>\n",
              "  </thead>\n",
              "  <tbody>\n",
              "    <tr>\n",
              "      <th>0</th>\n",
              "      <td>System rebooted after a failure in the printer...</td>\n",
              "      <td>Failure</td>\n",
              "    </tr>\n",
              "    <tr>\n",
              "      <th>1</th>\n",
              "      <td>Application X started successfully</td>\n",
              "      <td>Normal</td>\n",
              "    </tr>\n",
              "    <tr>\n",
              "      <th>2</th>\n",
              "      <td>Disk usage reached 95%, system under pressure</td>\n",
              "      <td>Failure</td>\n",
              "    </tr>\n",
              "    <tr>\n",
              "      <th>3</th>\n",
              "      <td>Network connection established successfully</td>\n",
              "      <td>Normal</td>\n",
              "    </tr>\n",
              "    <tr>\n",
              "      <th>4</th>\n",
              "      <td>Kernel panic: Oops, memory allocation failure</td>\n",
              "      <td>Failure</td>\n",
              "    </tr>\n",
              "    <tr>\n",
              "      <th>5</th>\n",
              "      <td>Failed to connect to database server</td>\n",
              "      <td>Failure</td>\n",
              "    </tr>\n",
              "    <tr>\n",
              "      <th>6</th>\n",
              "      <td>System running optimally with no issues detected</td>\n",
              "      <td>Normal</td>\n",
              "    </tr>\n",
              "    <tr>\n",
              "      <th>7</th>\n",
              "      <td>Error: Unable to access system configuration f...</td>\n",
              "      <td>Failure</td>\n",
              "    </tr>\n",
              "    <tr>\n",
              "      <th>8</th>\n",
              "      <td>Service A restarted after a crash</td>\n",
              "      <td>Failure</td>\n",
              "    </tr>\n",
              "    <tr>\n",
              "      <th>9</th>\n",
              "      <td>System shutdown scheduled for maintenance</td>\n",
              "      <td>Normal</td>\n",
              "    </tr>\n",
              "  </tbody>\n",
              "</table>\n",
              "</div>\n",
              "    <div class=\"colab-df-buttons\">\n",
              "\n",
              "  <div class=\"colab-df-container\">\n",
              "    <button class=\"colab-df-convert\" onclick=\"convertToInteractive('df-f7747cce-a512-45f5-8317-9bf1767d6bc1')\"\n",
              "            title=\"Convert this dataframe to an interactive table.\"\n",
              "            style=\"display:none;\">\n",
              "\n",
              "  <svg xmlns=\"http://www.w3.org/2000/svg\" height=\"24px\" viewBox=\"0 -960 960 960\">\n",
              "    <path d=\"M120-120v-720h720v720H120Zm60-500h600v-160H180v160Zm220 220h160v-160H400v160Zm0 220h160v-160H400v160ZM180-400h160v-160H180v160Zm440 0h160v-160H620v160ZM180-180h160v-160H180v160Zm440 0h160v-160H620v160Z\"/>\n",
              "  </svg>\n",
              "    </button>\n",
              "\n",
              "  <style>\n",
              "    .colab-df-container {\n",
              "      display:flex;\n",
              "      gap: 12px;\n",
              "    }\n",
              "\n",
              "    .colab-df-convert {\n",
              "      background-color: #E8F0FE;\n",
              "      border: none;\n",
              "      border-radius: 50%;\n",
              "      cursor: pointer;\n",
              "      display: none;\n",
              "      fill: #1967D2;\n",
              "      height: 32px;\n",
              "      padding: 0 0 0 0;\n",
              "      width: 32px;\n",
              "    }\n",
              "\n",
              "    .colab-df-convert:hover {\n",
              "      background-color: #E2EBFA;\n",
              "      box-shadow: 0px 1px 2px rgba(60, 64, 67, 0.3), 0px 1px 3px 1px rgba(60, 64, 67, 0.15);\n",
              "      fill: #174EA6;\n",
              "    }\n",
              "\n",
              "    .colab-df-buttons div {\n",
              "      margin-bottom: 4px;\n",
              "    }\n",
              "\n",
              "    [theme=dark] .colab-df-convert {\n",
              "      background-color: #3B4455;\n",
              "      fill: #D2E3FC;\n",
              "    }\n",
              "\n",
              "    [theme=dark] .colab-df-convert:hover {\n",
              "      background-color: #434B5C;\n",
              "      box-shadow: 0px 1px 3px 1px rgba(0, 0, 0, 0.15);\n",
              "      filter: drop-shadow(0px 1px 2px rgba(0, 0, 0, 0.3));\n",
              "      fill: #FFFFFF;\n",
              "    }\n",
              "  </style>\n",
              "\n",
              "    <script>\n",
              "      const buttonEl =\n",
              "        document.querySelector('#df-f7747cce-a512-45f5-8317-9bf1767d6bc1 button.colab-df-convert');\n",
              "      buttonEl.style.display =\n",
              "        google.colab.kernel.accessAllowed ? 'block' : 'none';\n",
              "\n",
              "      async function convertToInteractive(key) {\n",
              "        const element = document.querySelector('#df-f7747cce-a512-45f5-8317-9bf1767d6bc1');\n",
              "        const dataTable =\n",
              "          await google.colab.kernel.invokeFunction('convertToInteractive',\n",
              "                                                    [key], {});\n",
              "        if (!dataTable) return;\n",
              "\n",
              "        const docLinkHtml = 'Like what you see? Visit the ' +\n",
              "          '<a target=\"_blank\" href=https://colab.research.google.com/notebooks/data_table.ipynb>data table notebook</a>'\n",
              "          + ' to learn more about interactive tables.';\n",
              "        element.innerHTML = '';\n",
              "        dataTable['output_type'] = 'display_data';\n",
              "        await google.colab.output.renderOutput(dataTable, element);\n",
              "        const docLink = document.createElement('div');\n",
              "        docLink.innerHTML = docLinkHtml;\n",
              "        element.appendChild(docLink);\n",
              "      }\n",
              "    </script>\n",
              "  </div>\n",
              "\n",
              "\n",
              "<div id=\"df-715cee22-e16f-4bf1-bce5-f2f4545f6a81\">\n",
              "  <button class=\"colab-df-quickchart\" onclick=\"quickchart('df-715cee22-e16f-4bf1-bce5-f2f4545f6a81')\"\n",
              "            title=\"Suggest charts\"\n",
              "            style=\"display:none;\">\n",
              "\n",
              "<svg xmlns=\"http://www.w3.org/2000/svg\" height=\"24px\"viewBox=\"0 0 24 24\"\n",
              "     width=\"24px\">\n",
              "    <g>\n",
              "        <path d=\"M19 3H5c-1.1 0-2 .9-2 2v14c0 1.1.9 2 2 2h14c1.1 0 2-.9 2-2V5c0-1.1-.9-2-2-2zM9 17H7v-7h2v7zm4 0h-2V7h2v10zm4 0h-2v-4h2v4z\"/>\n",
              "    </g>\n",
              "</svg>\n",
              "  </button>\n",
              "\n",
              "<style>\n",
              "  .colab-df-quickchart {\n",
              "      --bg-color: #E8F0FE;\n",
              "      --fill-color: #1967D2;\n",
              "      --hover-bg-color: #E2EBFA;\n",
              "      --hover-fill-color: #174EA6;\n",
              "      --disabled-fill-color: #AAA;\n",
              "      --disabled-bg-color: #DDD;\n",
              "  }\n",
              "\n",
              "  [theme=dark] .colab-df-quickchart {\n",
              "      --bg-color: #3B4455;\n",
              "      --fill-color: #D2E3FC;\n",
              "      --hover-bg-color: #434B5C;\n",
              "      --hover-fill-color: #FFFFFF;\n",
              "      --disabled-bg-color: #3B4455;\n",
              "      --disabled-fill-color: #666;\n",
              "  }\n",
              "\n",
              "  .colab-df-quickchart {\n",
              "    background-color: var(--bg-color);\n",
              "    border: none;\n",
              "    border-radius: 50%;\n",
              "    cursor: pointer;\n",
              "    display: none;\n",
              "    fill: var(--fill-color);\n",
              "    height: 32px;\n",
              "    padding: 0;\n",
              "    width: 32px;\n",
              "  }\n",
              "\n",
              "  .colab-df-quickchart:hover {\n",
              "    background-color: var(--hover-bg-color);\n",
              "    box-shadow: 0 1px 2px rgba(60, 64, 67, 0.3), 0 1px 3px 1px rgba(60, 64, 67, 0.15);\n",
              "    fill: var(--button-hover-fill-color);\n",
              "  }\n",
              "\n",
              "  .colab-df-quickchart-complete:disabled,\n",
              "  .colab-df-quickchart-complete:disabled:hover {\n",
              "    background-color: var(--disabled-bg-color);\n",
              "    fill: var(--disabled-fill-color);\n",
              "    box-shadow: none;\n",
              "  }\n",
              "\n",
              "  .colab-df-spinner {\n",
              "    border: 2px solid var(--fill-color);\n",
              "    border-color: transparent;\n",
              "    border-bottom-color: var(--fill-color);\n",
              "    animation:\n",
              "      spin 1s steps(1) infinite;\n",
              "  }\n",
              "\n",
              "  @keyframes spin {\n",
              "    0% {\n",
              "      border-color: transparent;\n",
              "      border-bottom-color: var(--fill-color);\n",
              "      border-left-color: var(--fill-color);\n",
              "    }\n",
              "    20% {\n",
              "      border-color: transparent;\n",
              "      border-left-color: var(--fill-color);\n",
              "      border-top-color: var(--fill-color);\n",
              "    }\n",
              "    30% {\n",
              "      border-color: transparent;\n",
              "      border-left-color: var(--fill-color);\n",
              "      border-top-color: var(--fill-color);\n",
              "      border-right-color: var(--fill-color);\n",
              "    }\n",
              "    40% {\n",
              "      border-color: transparent;\n",
              "      border-right-color: var(--fill-color);\n",
              "      border-top-color: var(--fill-color);\n",
              "    }\n",
              "    60% {\n",
              "      border-color: transparent;\n",
              "      border-right-color: var(--fill-color);\n",
              "    }\n",
              "    80% {\n",
              "      border-color: transparent;\n",
              "      border-right-color: var(--fill-color);\n",
              "      border-bottom-color: var(--fill-color);\n",
              "    }\n",
              "    90% {\n",
              "      border-color: transparent;\n",
              "      border-bottom-color: var(--fill-color);\n",
              "    }\n",
              "  }\n",
              "</style>\n",
              "\n",
              "  <script>\n",
              "    async function quickchart(key) {\n",
              "      const quickchartButtonEl =\n",
              "        document.querySelector('#' + key + ' button');\n",
              "      quickchartButtonEl.disabled = true;  // To prevent multiple clicks.\n",
              "      quickchartButtonEl.classList.add('colab-df-spinner');\n",
              "      try {\n",
              "        const charts = await google.colab.kernel.invokeFunction(\n",
              "            'suggestCharts', [key], {});\n",
              "      } catch (error) {\n",
              "        console.error('Error during call to suggestCharts:', error);\n",
              "      }\n",
              "      quickchartButtonEl.classList.remove('colab-df-spinner');\n",
              "      quickchartButtonEl.classList.add('colab-df-quickchart-complete');\n",
              "    }\n",
              "    (() => {\n",
              "      let quickchartButtonEl =\n",
              "        document.querySelector('#df-715cee22-e16f-4bf1-bce5-f2f4545f6a81 button');\n",
              "      quickchartButtonEl.style.display =\n",
              "        google.colab.kernel.accessAllowed ? 'block' : 'none';\n",
              "    })();\n",
              "  </script>\n",
              "</div>\n",
              "\n",
              "    </div>\n",
              "  </div>\n"
            ],
            "application/vnd.google.colaboratory.intrinsic+json": {
              "type": "dataframe",
              "variable_name": "df",
              "summary": "{\n  \"name\": \"df\",\n  \"rows\": 20,\n  \"fields\": [\n    {\n      \"column\": \"log\",\n      \"properties\": {\n        \"dtype\": \"string\",\n        \"num_unique_values\": 20,\n        \"samples\": [\n          \"System rebooted after a failure in the printer spooler\",\n          \"Network outage detected, no connectivity\",\n          \"Service B crashed unexpectedly\"\n        ],\n        \"semantic_type\": \"\",\n        \"description\": \"\"\n      }\n    },\n    {\n      \"column\": \"label\",\n      \"properties\": {\n        \"dtype\": \"category\",\n        \"num_unique_values\": 2,\n        \"samples\": [\n          \"Normal\",\n          \"Failure\"\n        ],\n        \"semantic_type\": \"\",\n        \"description\": \"\"\n      }\n    }\n  ]\n}"
            }
          },
          "metadata": {},
          "execution_count": 10
        }
      ]
    },
    {
      "cell_type": "markdown",
      "source": [
        "#Step 2: Preprocessing the Data\n",
        "- We need to clean and tokenize the logs to prepare them for the machine learning model."
      ],
      "metadata": {
        "id": "0uyXiynqjSwN"
      }
    },
    {
      "cell_type": "code",
      "source": [
        "# Split data into features and labels\n",
        "X = df['log']  # Log messages\n",
        "y = df['label']  # Labels (Failure or Normal)\n",
        "\n",
        "# Use TF-IDF for feature extraction\n",
        "vectorizer = TfidfVectorizer(stop_words='english')\n",
        "X_vect = vectorizer.fit_transform(X)\n",
        "\n",
        "\n",
        "\n"
      ],
      "metadata": {
        "id": "5gQY3_angiao"
      },
      "execution_count": 7,
      "outputs": []
    },
    {
      "cell_type": "markdown",
      "source": [
        "# Step 3: Train a Machine Learning Model"
      ],
      "metadata": {
        "id": "8rtw_EDbz3CP"
      }
    },
    {
      "cell_type": "code",
      "source": [
        "# Split the data into training and testing sets\n",
        "X_train, X_test, y_train, y_test = train_test_split(X_vect, y, test_size=0.3, random_state=42)\n",
        "\n",
        "# Initialize the model (Naive Bayes)\n",
        "model = MultinomialNB()"
      ],
      "metadata": {
        "id": "mcl2QIuRlois"
      },
      "execution_count": 8,
      "outputs": []
    },
    {
      "cell_type": "code",
      "source": [
        "# Cross-validation for better model evaluation\n",
        "cv_scores = cross_val_score(model, X_vect, y, cv=5)  # 5-fold cross-validation\n",
        "print(f'Cross-validation accuracy: {cv_scores.mean():.2f}')"
      ],
      "metadata": {
        "colab": {
          "base_uri": "https://localhost:8080/"
        },
        "id": "1k0VJuwVltVj",
        "outputId": "7487efa1-6b65-4cc6-87b6-d3fef22f90db"
      },
      "execution_count": 9,
      "outputs": [
        {
          "output_type": "stream",
          "name": "stdout",
          "text": [
            "Cross-validation accuracy: 0.79\n"
          ]
        }
      ]
    },
    {
      "cell_type": "code",
      "source": [
        "\n",
        "# Train the model\n",
        "model.fit(X_train, y_train)\n",
        "\n",
        "# Make predictions\n",
        "y_pred = model.predict(X_test)\n",
        "\n",
        "# Evaluate the model\n",
        "accuracy = accuracy_score(y_test, y_pred)\n",
        "print(f'Accuracy: {accuracy:.2f}')\n",
        "\n",
        "# Display the classification report\n",
        "print(\"Classification Report:\\n\", classification_report(y_test, y_pred))\n"
      ],
      "metadata": {
        "colab": {
          "base_uri": "https://localhost:8080/"
        },
        "id": "A-s0y1fVhCMm",
        "outputId": "6a4253bf-b0b2-41df-ea1c-9b337eff1a31"
      },
      "execution_count": 10,
      "outputs": [
        {
          "output_type": "stream",
          "name": "stdout",
          "text": [
            "Accuracy: 0.80\n",
            "Classification Report:\n",
            "               precision    recall  f1-score   support\n",
            "\n",
            "     Failure       0.80      1.00      0.89       245\n",
            "      Normal       0.00      0.00      0.00        61\n",
            "\n",
            "    accuracy                           0.80       306\n",
            "   macro avg       0.40      0.50      0.44       306\n",
            "weighted avg       0.64      0.80      0.71       306\n",
            "\n"
          ]
        },
        {
          "output_type": "stream",
          "name": "stderr",
          "text": [
            "/usr/local/lib/python3.11/dist-packages/sklearn/metrics/_classification.py:1565: UndefinedMetricWarning: Precision is ill-defined and being set to 0.0 in labels with no predicted samples. Use `zero_division` parameter to control this behavior.\n",
            "  _warn_prf(average, modifier, f\"{metric.capitalize()} is\", len(result))\n",
            "/usr/local/lib/python3.11/dist-packages/sklearn/metrics/_classification.py:1565: UndefinedMetricWarning: Precision is ill-defined and being set to 0.0 in labels with no predicted samples. Use `zero_division` parameter to control this behavior.\n",
            "  _warn_prf(average, modifier, f\"{metric.capitalize()} is\", len(result))\n",
            "/usr/local/lib/python3.11/dist-packages/sklearn/metrics/_classification.py:1565: UndefinedMetricWarning: Precision is ill-defined and being set to 0.0 in labels with no predicted samples. Use `zero_division` parameter to control this behavior.\n",
            "  _warn_prf(average, modifier, f\"{metric.capitalize()} is\", len(result))\n"
          ]
        }
      ]
    },
    {
      "cell_type": "markdown",
      "source": [
        "# Step 4: Testing the Model with New Logs\n",
        "- After training the model, we can test it with new sample logs to see if it can correctly classify them as \"Failure\" or \"Normal\"."
      ],
      "metadata": {
        "id": "NOsZIWX0z8CO"
      }
    },
    {
      "cell_type": "code",
      "source": [
        "# Sample new logs for testing\n",
        "new_logs = [\n",
        "    'Disk failure detected, unable to mount filesystem',\n",
        "    'System performance is optimal and stable',\n",
        "    'Network latency issue, ping time exceeds 500ms',\n",
        "    'Server restarted due to application crash',\n",
        "    'Backup completed successfully without issues'\n",
        "]\n",
        "\n",
        "# Preprocess the new logs (same as training data)\n",
        "new_logs_vect = vectorizer.transform(new_logs)\n",
        "\n",
        "# Predict the labels for the new logs\n",
        "predictions = model.predict(new_logs_vect)\n",
        "\n",
        "# Display predictions\n",
        "for log, prediction in zip(new_logs, predictions):\n",
        "    print(f\"Log: {log} -> Prediction: {prediction}\")\n"
      ],
      "metadata": {
        "colab": {
          "base_uri": "https://localhost:8080/"
        },
        "id": "sNu1Nx_ghGEW",
        "outputId": "e9859798-5581-4a05-f1c3-cdbd06e953fa"
      },
      "execution_count": 11,
      "outputs": [
        {
          "output_type": "stream",
          "name": "stdout",
          "text": [
            "Log: Disk failure detected, unable to mount filesystem -> Prediction: Failure\n",
            "Log: System performance is optimal and stable -> Prediction: Failure\n",
            "Log: Network latency issue, ping time exceeds 500ms -> Prediction: Failure\n",
            "Log: Server restarted due to application crash -> Prediction: Failure\n",
            "Log: Backup completed successfully without issues -> Prediction: Failure\n"
          ]
        }
      ]
    },
    {
      "cell_type": "markdown",
      "source": [
        "# Anomalies Insight"
      ],
      "metadata": {
        "id": "JCQDRX4P_gwb"
      }
    },
    {
      "source": [
        "# Importing necessary libraries\n",
        "import matplotlib.pyplot as plt\n",
        "import seaborn as sns\n",
        "import numpy as np\n",
        "\n",
        "# Setting up the style for the plots\n",
        "sns.set(style=\"whitegrid\")\n",
        "\n",
        "# Data: System Anomalies and Performance Impact\n",
        "anomalies = ['High CPU Usage', 'Network Failure', 'Disk Error', 'Memory Leak', 'Service Crash']\n",
        "damage_impact = [40, 60, 50, 55, 70]  # The damage caused by anomalies (in terms of performance loss)\n",
        "recovery_impact = [10, 15, 20, 12, 8]  # The impact after anomaly resolution (improvement in work performance)\n",
        "\n",
        "# Simulating the before and after efficiency (lower is worse)\n",
        "before_after_efficiency = {\n",
        "    'Anomalies': anomalies,\n",
        "    'Before Resolution (Impact)': damage_impact,\n",
        "    'After Resolution (Efficiency Boost)': recovery_impact\n",
        "}\n",
        "\n",
        "# Creating a DataFrame for visualization\n",
        "import pandas as pd\n",
        "df = pd.DataFrame(before_after_efficiency)\n",
        "\n",
        "# Create a Figure and an Axes object # This line is added\n",
        "fig, ax = plt.subplots() # This line is added\n",
        "\n",
        "\n",
        "# Plotting the before and after resolution impacts\n",
        "bar_width = 0.35\n",
        "index = np.arange(len(df))\n",
        "bar1 = ax.bar(index, df['Before Resolution (Impact)'], bar_width, label='Before Resolution', color='red')\n",
        "bar2 = ax.bar(index + bar_width, df['After Resolution (Efficiency Boost)'], bar_width, label='After Resolution', color='green')\n",
        "\n",
        "# Adding labels, title, and custom x-axis tick labels\n",
        "ax.set_xlabel('System Anomalies')\n",
        "ax.set_ylabel('Impact on Performance (%)')\n",
        "ax.set_title('Impact of System Anomalies on Work Efficiency')\n",
        "ax.set_xticks(index + bar_width / 2)\n",
        "ax.set_xticklabels(df['Anomalies'], rotation=45)\n",
        "ax.legend()\n",
        "\n",
        "# Show the plot\n",
        "plt.tight_layout()\n",
        "plt.show()\n",
        "\n",
        "# Creating a heatmap for the classification of anomalies\n",
        "heatmap_data = np.array([[60, 20, 15, 5],\n",
        "                         [25, 45, 60, 5],\n",
        "                         [10, 25, 80, 15],\n",
        "                         [45, 10, 35, 40]])\n",
        "\n",
        "# Defining the categories and labels\n",
        "labels = ['High CPU Usage', 'Network Failure', 'Disk Error', 'Service Crash']\n",
        "classification_labels = ['Normal', 'High Impact', 'Medium Impact', 'Low Impact']\n",
        "\n",
        "# Plotting the heatmap\n",
        "plt.figure(figsize=(8,6))\n",
        "sns.heatmap(heatmap_data, annot=True, fmt='d', cmap=\"YlGnBu\", xticklabels=classification_labels, yticklabels=labels)\n",
        "plt.title(\"Classification of Anomalies Impact\")\n",
        "plt.ylabel('Anomaly Type')\n",
        "plt.xlabel('Impact Level')\n",
        "plt.show()"
      ],
      "cell_type": "code",
      "metadata": {
        "colab": {
          "base_uri": "https://localhost:8080/",
          "height": 1000
        },
        "id": "6hAddyDf_M4V",
        "outputId": "bbc790e3-f456-40a9-dc14-e525a8b80d3f"
      },
      "execution_count": 13,
      "outputs": [
        {
          "output_type": "display_data",
          "data": {
            "text/plain": [
              "<Figure size 640x480 with 1 Axes>"
            ],
            "image/png": "[encoded data removed]"
          },
          "metadata": {}
        },
        {
          "output_type": "display_data",
          "data": {
            "text/plain": [
              "<Figure size 800x600 with 2 Axes>"
            ],
            "image/png": "[encoded data removed]"
          },
          "metadata": {}
        }
      ]
    },
    {
      "cell_type": "markdown",
      "source": [
        "Heatmap:\n",
        "\n",
        "The heatmap shows how different levels of impact are classified for each anomaly (e.g., Normal, High Impact, Medium Impact, Low Impact). The colors help visualize the severity of each anomaly and how they are categorized in terms of work performance"
      ],
      "metadata": {
        "id": "PU4PAOJ_8oDv"
      }
    },
    {
      "cell_type": "code",
      "source": [
        "\n",
        "\n",
        "\n"
      ],
      "metadata": {
        "id": "k6yS5wYzhOnV"
      },
      "execution_count": null,
      "outputs": []
    }
  ],
  "metadata": {
    "colab": {
      "provenance": [],
      "include_colab_link": true
    },
    "kernelspec": {
      "display_name": "Python 3",
      "name": "python3"
    },
    "language_info": {
      "name": "python"
    }
  },
  "nbformat": 4,
  "nbformat_minor": 0
}